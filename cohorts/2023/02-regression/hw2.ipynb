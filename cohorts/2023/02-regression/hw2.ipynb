{
 "cells": [
  {
   "cell_type": "code",
   "execution_count": 1,
   "id": "84444855-2483-4cb5-9e42-41f115fb69bf",
   "metadata": {},
   "outputs": [],
   "source": [
    "import pandas as pd\n",
    "import numpy as np\n",
    "\n",
    "import seaborn as sns\n",
    "from matplotlib import pyplot as plt\n",
    "%matplotlib inline"
   ]
  },
  {
   "cell_type": "code",
   "execution_count": 2,
   "id": "86874133-70f8-4728-8ad3-118b626d2598",
   "metadata": {},
   "outputs": [
    {
     "data": {
      "text/plain": [
       "20640"
      ]
     },
     "execution_count": 2,
     "metadata": {},
     "output_type": "execute_result"
    }
   ],
   "source": [
    "df = pd.read_csv('housing.csv')\n",
    "len(df)"
   ]
  },
  {
   "cell_type": "code",
   "execution_count": 3,
   "id": "24b837bf-b767-4080-87db-7834474be261",
   "metadata": {},
   "outputs": [
    {
     "data": {
      "image/png": "[encoded data removed]",
      "text/plain": [
       "<Figure size 600x400 with 1 Axes>"
      ]
     },
     "metadata": {},
     "output_type": "display_data"
    }
   ],
   "source": [
    "plt.figure(figsize=(6, 4))\n",
    "\n",
    "#sns.histplot(df.msrp[df.msrp < 100000], bins=40, color='black', alpha=1)\n",
    "sns.histplot(df.median_house_value, bins=40, color='black', alpha=1)\n",
    "plt.ylabel('Frequency')\n",
    "plt.xlabel('Price')\n",
    "plt.title('Distribution of prices')\n",
    "\n",
    "plt.show()"
   ]
  },
  {
   "cell_type": "code",
   "execution_count": 4,
   "id": "4034ea2c-5bec-4e68-bf6d-8aba3d76beab",
   "metadata": {},
   "outputs": [
    {
     "data": {
      "text/plain": [
       "(15687, 9)"
      ]
     },
     "execution_count": 4,
     "metadata": {},
     "output_type": "execute_result"
    }
   ],
   "source": [
    "df = df[df.ocean_proximity.isin(['<1H OCEAN', 'INLAND'])]\n",
    "df = df[['latitude',\n",
    "        'longitude',\n",
    "        'housing_median_age',\n",
    "        'total_rooms',\n",
    "        'total_bedrooms',\n",
    "        'population',\n",
    "        'households',\n",
    "        'median_income',\n",
    "        'median_house_value']]\n",
    "df.shape"
   ]
  },
  {
   "cell_type": "code",
   "execution_count": 5,
   "id": "6db5fc21-cd38-4c52-8ef7-b1a879708bbc",
   "metadata": {},
   "outputs": [
    {
     "name": "stdout",
     "output_type": "stream",
     "text": [
      "['total_bedrooms']\n"
     ]
    }
   ],
   "source": [
    "missing_cols = df.columns[df.isnull().any()].tolist()\n",
    "print(missing_cols)"
   ]
  },
  {
   "cell_type": "code",
   "execution_count": 6,
   "id": "d3ed810c-1ce0-44b3-beee-ebbca3de5deb",
   "metadata": {},
   "outputs": [
    {
     "data": {
      "text/plain": [
       "1195.0"
      ]
     },
     "execution_count": 6,
     "metadata": {},
     "output_type": "execute_result"
    }
   ],
   "source": [
    "df.population.median()"
   ]
  },
  {
   "cell_type": "code",
   "execution_count": 7,
   "id": "fbecf50b-ebbe-461c-bc4d-9934a22a4074",
   "metadata": {},
   "outputs": [
    {
     "data": {
      "text/plain": [
       "'{\"latitude\":{\"count\":15687.0,\"mean\":35.4673066871,\"std\":2.0663867734,\"min\":32.61,\"25%\":33.94,\"50%\":34.16,\"75%\":37.34,\"max\":41.95},\"longitude\":{\"count\":15687.0,\"mean\":-119.2174418308,\"std\":1.7803801496,\"min\":-124.14,\"25%\":-121.07,\"50%\":-118.37,\"75%\":-117.99,\"max\":-114.31},\"housing_median_age\":{\"count\":15687.0,\"mean\":27.1881175496,\"std\":12.0571280972,\"min\":1.0,\"25%\":17.0,\"50%\":27.0,\"75%\":36.0,\"max\":52.0},\"total_rooms\":{\"count\":15687.0,\"mean\":2665.6773124243,\"std\":2257.6727428043,\"min\":2.0,\"25%\":1441.0,\"50%\":2118.0,\"75%\":3172.0,\"max\":39320.0},\"total_bedrooms\":{\"count\":15530.0,\"mean\":541.2446877012,\"std\":435.6500176406,\"min\":2.0,\"25%\":295.0,\"50%\":432.0,\"75%\":645.0,\"max\":6445.0},\"population\":{\"count\":15687.0,\"mean\":1466.3172053293,\"std\":1180.3899082759,\"min\":3.0,\"25%\":802.0,\"50%\":1195.0,\"75%\":1777.0,\"max\":35682.0},\"households\":{\"count\":15687.0,\"mean\":500.9164913623,\"std\":392.7593992797,\"min\":2.0,\"25%\":278.0,\"50%\":406.0,\"75%\":602.0,\"max\":6082.0},\"median_income\":{\"count\":15687.0,\"mean\":3.804018952,\"std\":1.8571575217,\"min\":0.4999,\"25%\":2.5208,\"50%\":3.4688,\"75%\":4.6862,\"max\":15.0001},\"median_house_value\":{\"count\":15687.0,\"mean\":191943.0200165742,\"std\":108801.077619759,\"min\":14999.0,\"25%\":111300.0,\"50%\":166900.0,\"75%\":241100.0,\"max\":500001.0}}'"
      ]
     },
     "execution_count": 7,
     "metadata": {},
     "output_type": "execute_result"
    }
   ],
   "source": [
    "df.describe().to_json()"
   ]
  },
  {
   "cell_type": "code",
   "execution_count": 8,
   "id": "9b61f7d7-a41e-4294-bead-2c4973f0ffbb",
   "metadata": {},
   "outputs": [
    {
     "name": "stdout",
     "output_type": "stream",
     "text": [
      "Proportion of train set: 0.5999235035379614\n",
      "Proportion of validation set: 0.20003824823101932\n",
      "Proportion of test set: 0.20003824823101932\n"
     ]
    }
   ],
   "source": [
    "from sklearn.model_selection import train_test_split\n",
    "\n",
    "# Assuming df is your DataFrame\n",
    "df = df.sample(frac=1, random_state=42)\n",
    "\n",
    "# Splitting the data into train/val/test sets\n",
    "train, test = train_test_split(df, test_size=0.2, random_state=42)\n",
    "train, val = train_test_split(train, test_size=0.25, random_state=42) # 0.25 x 0.8 = 0.2\n",
    "\n",
    "# Applying the log transformation to the 'median_house_value' variable\n",
    "train['median_house_value'] = np.log1p(train['median_house_value'])\n",
    "val['median_house_value'] = np.log1p(val['median_house_value'])\n",
    "test['median_house_value'] = np.log1p(test['median_house_value'])\n",
    "\n",
    "# Print the proportions of the 3 datasets to the original df\n",
    "print(f\"Proportion of train set: {len(train)/len(df)}\")\n",
    "print(f\"Proportion of validation set: {len(val)/len(df)}\")\n",
    "print(f\"Proportion of test set: {len(test)/len(df)}\")"
   ]
  },
  {
   "cell_type": "code",
   "execution_count": 9,
   "id": "fd1e88bb-5851-4611-8b0e-7819e5650f09",
   "metadata": {},
   "outputs": [
    {
     "name": "stdout",
     "output_type": "stream",
     "text": [
      "RMSE score when missing values are filled with 0:  0.33\n",
      "RMSE score when missing values are filled with mean:  0.33\n"
     ]
    }
   ],
   "source": [
    "import numpy as np\n",
    "from sklearn.metrics import mean_squared_error\n",
    "\n",
    "# Function to train a linear regression model\n",
    "def train_linear_regression(X, y):\n",
    "    ones = np.ones(X.shape[0])\n",
    "    X = np.column_stack([ones, X])\n",
    "\n",
    "    XTX = X.T.dot(X)\n",
    "    XTX_inv = np.linalg.inv(XTX)\n",
    "    w = XTX_inv.dot(X.T).dot(y)\n",
    "    \n",
    "    return w[0], w[1:]\n",
    "\n",
    "# Preparing the target variable\n",
    "y_train = train['median_house_value'].values\n",
    "y_val = val['median_house_value'].values\n",
    "\n",
    "# Preparing the features\n",
    "X_train_0 = train.fillna(0).drop('median_house_value', axis=1).values\n",
    "X_val_0 = val.fillna(0).drop('median_house_value', axis=1).values\n",
    "\n",
    "X_train_mean = train.fillna(train.mean()).drop('median_house_value', axis=1).values\n",
    "X_val_mean = val.fillna(train.mean()).drop('median_house_value', axis=1).values\n",
    "\n",
    "# Training the models and making predictions\n",
    "w0_0, w_0 = train_linear_regression(X_train_0, y_train)\n",
    "y_pred_0 = w0_0 + X_val_0.dot(w_0)\n",
    "\n",
    "w0_mean, w_mean = train_linear_regression(X_train_mean, y_train)\n",
    "y_pred_mean = w0_mean + X_val_mean.dot(w_mean)\n",
    "\n",
    "# Calculating the RMSE scores\n",
    "score_0 = np.sqrt(mean_squared_error(y_val, y_pred_0))\n",
    "score_mean = np.sqrt(mean_squared_error(y_val, y_pred_mean))\n",
    "\n",
    "# Printing the RMSE scores\n",
    "print(\"RMSE score when missing values are filled with 0: \", round(score_0, 2))\n",
    "print(\"RMSE score when missing values are filled with mean: \", round(score_mean, 2))\n"
   ]
  },
  {
   "cell_type": "code",
   "execution_count": 10,
   "id": "74fd90db-2b88-4ba7-a5ca-082594b261cb",
   "metadata": {},
   "outputs": [
    {
     "data": {
      "text/plain": [
       "latitude                35.486446\n",
       "longitude             -119.226382\n",
       "housing_median_age      27.060461\n",
       "total_rooms           2656.624163\n",
       "total_bedrooms         537.820590\n",
       "population            1454.077356\n",
       "households             497.872915\n",
       "median_income            3.807727\n",
       "median_house_value      12.007972\n",
       "dtype: float64"
      ]
     },
     "execution_count": 10,
     "metadata": {},
     "output_type": "execute_result"
    }
   ],
   "source": [
    "train.mean()"
   ]
  },
  {
   "cell_type": "code",
   "execution_count": 11,
   "id": "eef55546-db83-4db6-8efc-bd4971bfbd5f",
   "metadata": {},
   "outputs": [
    {
     "name": "stdout",
     "output_type": "stream",
     "text": [
      "RMSE score for r=0:  0.33\n",
      "RMSE score for r=1e-06:  0.33\n",
      "RMSE score for r=0.0001:  0.33\n",
      "RMSE score for r=0.001:  0.33\n",
      "RMSE score for r=0.01:  0.33\n",
      "RMSE score for r=0.1:  0.33\n",
      "RMSE score for r=1:  0.34\n",
      "RMSE score for r=5:  0.34\n",
      "RMSE score for r=10:  0.34\n"
     ]
    }
   ],
   "source": [
    "import numpy as np\n",
    "from sklearn.metrics import mean_squared_error\n",
    "\n",
    "# Function to train a regularized linear regression model\n",
    "def train_linear_regression_reg(X, y, r=0.0):\n",
    "    ones = np.ones(X.shape[0])\n",
    "    X = np.column_stack([ones, X])\n",
    "\n",
    "    XTX = X.T.dot(X)\n",
    "    reg = r * np.eye(XTX.shape[0])\n",
    "    XTX = XTX + reg\n",
    "\n",
    "    XTX_inv = np.linalg.inv(XTX)\n",
    "    w = XTX_inv.dot(X.T).dot(y)\n",
    "    \n",
    "    return w[0], w[1:]\n",
    "\n",
    "# Preparing the target variable\n",
    "y_train = train['median_house_value'].values\n",
    "y_val = val['median_house_value'].values\n",
    "\n",
    "# Preparing the features\n",
    "X_train_0 = train.fillna(0).drop('median_house_value', axis=1).values\n",
    "X_val_0 = val.fillna(0).drop('median_house_value', axis=1).values\n",
    "\n",
    "# List of regularization coefficients to try\n",
    "r_values = [0, 0.000001, 0.0001, 0.001, 0.01, 0.1, 1, 5, 10]\n",
    "\n",
    "# Training the models and calculating the RMSE scores for each r value\n",
    "for r in r_values:\n",
    "    w0, w = train_linear_regression_reg(X_train_0, y_train, r=r)\n",
    "    y_pred = w0 + X_val_0.dot(w)\n",
    "    score = np.sqrt(mean_squared_error(y_val, y_pred))\n",
    "    print(f\"RMSE score for r={r}: \", round(score, 2))"
   ]
  },
  {
   "cell_type": "code",
   "execution_count": 7,
   "id": "b7243f9f-3d1c-47f6-8347-e715e373008b",
   "metadata": {},
   "outputs": [
    {
     "name": "stdout",
     "output_type": "stream",
     "text": [
      "Standard deviation of RMSE scores:  1280.366\n"
     ]
    }
   ],
   "source": [
    "import numpy as np\n",
    "from sklearn.metrics import mean_squared_error\n",
    "from sklearn.model_selection import train_test_split\n",
    "\n",
    "# Function to train a linear regression model\n",
    "def train_linear_regression(X, y):\n",
    "    ones = np.ones(X.shape[0])\n",
    "    X = np.column_stack([ones, X])\n",
    "\n",
    "    XTX = X.T.dot(X)\n",
    "    XTX_inv = np.linalg.inv(XTX)\n",
    "    w = XTX_inv.dot(X.T).dot(y)\n",
    "    \n",
    "    return w[0], w[1:]\n",
    "\n",
    "# List of seed values to try\n",
    "seed_values = [0, 1, 2, 3, 4, 5, 6, 7, 8, 9]\n",
    "\n",
    "# List to store the RMSE scores for each seed value\n",
    "scores = []\n",
    "df_copy = df.copy()\n",
    "# For each seed value\n",
    "for seed in seed_values:\n",
    "    # Set the seed for NumPy's random number generator\n",
    "    np.random.seed(seed)\n",
    "\n",
    "    # Shuffle and split the data into train/val/test sets\n",
    "    df = df_copy\n",
    "    n = len(df)\n",
    "    n_val = int(0.2 * n)\n",
    "    n_test = int(0.2 * n)\n",
    "    n_train = n - (n_val + n_test)\n",
    "    idx = np.arange(n)\n",
    "    np.random.shuffle(idx)\n",
    "    df_shuffled = df.iloc[idx]\n",
    "    \n",
    "    train = df_shuffled.iloc[:n_train].copy()\n",
    "    val = df_shuffled.iloc[n_train:n_train+n_val].copy()\n",
    "    test = df_shuffled.iloc[n_train+n_val:].copy()\n",
    "\n",
    "    # Preparing the target variable and features\n",
    "    y_train = train['median_house_value'].values\n",
    "    y_val = val['median_house_value'].values\n",
    "\n",
    "    X_train_0 = train.fillna(0).drop('median_house_value', axis=1).values\n",
    "    X_val_0 = val.fillna(0).drop('median_house_value', axis=1).values\n",
    "\n",
    "    # Training the model and making predictions\n",
    "    w0_0, w_0 = train_linear_regression(X_train_0, y_train)\n",
    "    y_pred_0 = w0_0 + X_val_0.dot(w_0)\n",
    "\n",
    "    # Calculating the RMSE score and adding it to the list of scores\n",
    "    score_0 = np.sqrt(mean_squared_error(y_val, y_pred_0))\n",
    "    scores.append(score_0)\n",
    "\n",
    "# Computing the standard deviation of all the RMSE scores\n",
    "std_dev = np.std(scores)\n",
    "\n",
    "# Printing the standard deviation of the RMSE scores\n",
    "print(\"Standard deviation of RMSE scores: \", round(std_dev, 3))"
   ]
  },
  {
   "cell_type": "code",
   "execution_count": 8,
   "id": "5e97dec5-dccc-41ef-b0f4-534088f5265d",
   "metadata": {},
   "outputs": [
    {
     "data": {
      "text/plain": [
       "[63851.52541934526,\n",
       " 64738.72766232962,\n",
       " 65924.48892010374,\n",
       " 65363.63200891588,\n",
       " 66262.68573840072,\n",
       " 67855.26402647048,\n",
       " 65481.773267139935,\n",
       " 67366.2565607358,\n",
       " 67803.46231414078,\n",
       " 65058.79576640671]"
      ]
     },
     "execution_count": 8,
     "metadata": {},
     "output_type": "execute_result"
    }
   ],
   "source": [
    "scores"
   ]
  },
  {
   "cell_type": "code",
   "execution_count": 7,
   "id": "cd62b19e-478e-4e0c-9bf4-897505e47d16",
   "metadata": {},
   "outputs": [
    {
     "name": "stdout",
     "output_type": "stream",
     "text": [
      "RMSE score on test dataset:  66713.687\n"
     ]
    }
   ],
   "source": [
    "import numpy as np\n",
    "from sklearn.metrics import mean_squared_error\n",
    "\n",
    "# Function to train a regularized linear regression model\n",
    "def train_linear_regression_reg(X, y, r=0.0):\n",
    "    ones = np.ones(X.shape[0])\n",
    "    X = np.column_stack([ones, X])\n",
    "\n",
    "    XTX = X.T.dot(X)\n",
    "    reg = r * np.eye(XTX.shape[0])\n",
    "    XTX = XTX + reg\n",
    "\n",
    "    XTX_inv = np.linalg.inv(XTX)\n",
    "    w = XTX_inv.dot(X.T).dot(y)\n",
    "    \n",
    "    return w[0], w[1:]\n",
    "\n",
    "# Set the seed for NumPy's random number generator\n",
    "np.random.seed(9)\n",
    "\n",
    "# Shuffle and split the data into train/val/test sets\n",
    "n = len(df)\n",
    "n_val = int(0.2 * n)\n",
    "n_test = int(0.2 * n)\n",
    "n_train = n - (n_val + n_test)\n",
    "idx = np.arange(n)\n",
    "np.random.shuffle(idx)\n",
    "df_shuffled = df.iloc[idx]\n",
    "\n",
    "train = df_shuffled.iloc[:n_train].copy()\n",
    "val = df_shuffled.iloc[n_train:n_train+n_val].copy()\n",
    "test = df_shuffled.iloc[n_train+n_val:].copy()\n",
    "\n",
    "# Combine the train and validation datasets\n",
    "train = pd.concat([train, val])\n",
    "\n",
    "# Preparing the target variable and features\n",
    "y_train = train['median_house_value'].values\n",
    "y_test = test['median_house_value'].values\n",
    "\n",
    "X_train_0 = train.fillna(0).drop('median_house_value', axis=1).values\n",
    "X_test_0 = test.fillna(0).drop('median_house_value', axis=1).values\n",
    "\n",
    "# Training the model and making predictions\n",
    "w0_0, w_0 = train_linear_regression_reg(X_train_0, y_train, r=0.001)\n",
    "y_pred_0 = w0_0 + X_test_0.dot(w_0)\n",
    "\n",
    "# Calculating the RMSE score\n",
    "score_0 = np.sqrt(mean_squared_error(y_test, y_pred_0))\n",
    "\n",
    "# Printing the RMSE score\n",
    "print(\"RMSE score on test dataset: \", round(score_0, 3))"
   ]
  },
  {
   "cell_type": "code",
   "execution_count": null,
   "id": "f256468e-266d-47cd-8710-fe432783695e",
   "metadata": {},
   "outputs": [],
   "source": []
  }
 ],
 "metadata": {
  "kernelspec": {
   "display_name": "Python 3 (ipykernel)",
   "language": "python",
   "name": "python3"
  },
  "language_info": {
   "codemirror_mode": {
    "name": "ipython",
    "version": 3
   },
   "file_extension": ".py",
   "mimetype": "text/x-python",
   "name": "python",
   "nbconvert_exporter": "python",
   "pygments_lexer": "ipython3",
   "version": "3.10.13"
  }
 },
 "nbformat": 4,
 "nbformat_minor": 5
}
