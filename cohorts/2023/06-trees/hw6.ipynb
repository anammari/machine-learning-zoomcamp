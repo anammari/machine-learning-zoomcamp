{
 "cells": [
  {
   "cell_type": "code",
   "execution_count": 1,
   "id": "03b297fd-7f2a-4c74-9eb3-11793992c1eb",
   "metadata": {},
   "outputs": [],
   "source": [
    "#!wget https://raw.githubusercontent.com/alexeygrigorev/datasets/master/housing.csv"
   ]
  },
  {
   "cell_type": "code",
   "execution_count": 2,
   "id": "725bf93c-9ad9-4b02-a1fe-df05a174d2c6",
   "metadata": {},
   "outputs": [],
   "source": [
    "import pandas as pd\n",
    "import numpy as np\n",
    "import seaborn as sns\n",
    "from matplotlib import pyplot as plt\n",
    "%matplotlib inline\n",
    "from sklearn.model_selection import train_test_split\n",
    "from sklearn.tree import DecisionTreeClassifier, DecisionTreeRegressor\n",
    "from sklearn.tree import export_text\n",
    "from sklearn.ensemble import RandomForestClassifier, RandomForestRegressor\n",
    "from sklearn.feature_extraction import DictVectorizer\n",
    "from sklearn.metrics import roc_auc_score\n",
    "from sklearn.metrics import mean_squared_error\n",
    "from IPython.display import display\n",
    "import xgboost as xgb"
   ]
  },
  {
   "cell_type": "code",
   "execution_count": 3,
   "id": "e10765c2-daa3-4b52-b2a4-fce64a64f3e2",
   "metadata": {},
   "outputs": [
    {
     "name": "stdout",
     "output_type": "stream",
     "text": [
      "Proportion of train set: 0.5999235035379614\n",
      "Proportion of validation set: 0.20003824823101932\n",
      "Proportion of test set: 0.20003824823101932\n"
     ]
    }
   ],
   "source": [
    "df = pd.read_csv('housing.csv')\n",
    "df = df[df.ocean_proximity.isin(['<1H OCEAN', 'INLAND'])]\n",
    "df = df.fillna(0)\n",
    "# Splitting the data into train/val/test sets\n",
    "train, test = train_test_split(df, test_size=0.2, random_state=1)\n",
    "train, val = train_test_split(train, test_size=0.25, random_state=1) # 0.25 x 0.8 = 0.2\n",
    "# Applying the log transformation to the 'median_house_value' variable\n",
    "train['median_house_value'] = np.log1p(train['median_house_value'])\n",
    "val['median_house_value'] = np.log1p(val['median_house_value'])\n",
    "test['median_house_value'] = np.log1p(test['median_house_value'])\n",
    "# Creating Dependent Variables\n",
    "y_train = train.median_house_value.values\n",
    "y_val = val.median_house_value.values\n",
    "y_test = test.median_house_value.values\n",
    "# Deleting target column i.e. above_average from training datasets\n",
    "del train['median_house_value']\n",
    "del val['median_house_value']\n",
    "del test['median_house_value']\n",
    "# Print the proportions of the 3 datasets to the original df\n",
    "print(f\"Proportion of train set: {len(train)/len(df)}\")\n",
    "print(f\"Proportion of validation set: {len(val)/len(df)}\")\n",
    "print(f\"Proportion of test set: {len(test)/len(df)}\")"
   ]
  },
  {
   "cell_type": "code",
   "execution_count": 4,
   "id": "87ca4d12-aca5-4699-9f18-d3233a787da7",
   "metadata": {},
   "outputs": [],
   "source": [
    "dv = DictVectorizer(sparse=True)                              \n",
    "train_dict = train.to_dict(orient='records') \n",
    "X_train = dv.fit_transform(train_dict)\n",
    "val_dict = val.to_dict(orient='records')\n",
    "X_val = dv.transform(val_dict)"
   ]
  },
  {
   "cell_type": "code",
   "execution_count": 5,
   "id": "8bf28231-7b37-4c45-bda4-085b5196832f",
   "metadata": {},
   "outputs": [
    {
     "data": {
      "text/html": [
       "<style>#sk-container-id-1 {color: black;}#sk-container-id-1 pre{padding: 0;}#sk-container-id-1 div.sk-toggleable {background-color: white;}#sk-container-id-1 label.sk-toggleable__label {cursor: pointer;display: block;width: 100%;margin-bottom: 0;padding: 0.3em;box-sizing: border-box;text-align: center;}#sk-container-id-1 label.sk-toggleable__label-arrow:before {content: \"▸\";float: left;margin-right: 0.25em;color: #696969;}#sk-container-id-1 label.sk-toggleable__label-arrow:hover:before {color: black;}#sk-container-id-1 div.sk-estimator:hover label.sk-toggleable__label-arrow:before {color: black;}#sk-container-id-1 div.sk-toggleable__content {max-height: 0;max-width: 0;overflow: hidden;text-align: left;background-color: #f0f8ff;}#sk-container-id-1 div.sk-toggleable__content pre {margin: 0.2em;color: black;border-radius: 0.25em;background-color: #f0f8ff;}#sk-container-id-1 input.sk-toggleable__control:checked~div.sk-toggleable__content {max-height: 200px;max-width: 100%;overflow: auto;}#sk-container-id-1 input.sk-toggleable__control:checked~label.sk-toggleable__label-arrow:before {content: \"▾\";}#sk-container-id-1 div.sk-estimator input.sk-toggleable__control:checked~label.sk-toggleable__label {background-color: #d4ebff;}#sk-container-id-1 div.sk-label input.sk-toggleable__control:checked~label.sk-toggleable__label {background-color: #d4ebff;}#sk-container-id-1 input.sk-hidden--visually {border: 0;clip: rect(1px 1px 1px 1px);clip: rect(1px, 1px, 1px, 1px);height: 1px;margin: -1px;overflow: hidden;padding: 0;position: absolute;width: 1px;}#sk-container-id-1 div.sk-estimator {font-family: monospace;background-color: #f0f8ff;border: 1px dotted black;border-radius: 0.25em;box-sizing: border-box;margin-bottom: 0.5em;}#sk-container-id-1 div.sk-estimator:hover {background-color: #d4ebff;}#sk-container-id-1 div.sk-parallel-item::after {content: \"\";width: 100%;border-bottom: 1px solid gray;flex-grow: 1;}#sk-container-id-1 div.sk-label:hover label.sk-toggleable__label {background-color: #d4ebff;}#sk-container-id-1 div.sk-serial::before {content: \"\";position: absolute;border-left: 1px solid gray;box-sizing: border-box;top: 0;bottom: 0;left: 50%;z-index: 0;}#sk-container-id-1 div.sk-serial {display: flex;flex-direction: column;align-items: center;background-color: white;padding-right: 0.2em;padding-left: 0.2em;position: relative;}#sk-container-id-1 div.sk-item {position: relative;z-index: 1;}#sk-container-id-1 div.sk-parallel {display: flex;align-items: stretch;justify-content: center;background-color: white;position: relative;}#sk-container-id-1 div.sk-item::before, #sk-container-id-1 div.sk-parallel-item::before {content: \"\";position: absolute;border-left: 1px solid gray;box-sizing: border-box;top: 0;bottom: 0;left: 50%;z-index: -1;}#sk-container-id-1 div.sk-parallel-item {display: flex;flex-direction: column;z-index: 1;position: relative;background-color: white;}#sk-container-id-1 div.sk-parallel-item:first-child::after {align-self: flex-end;width: 50%;}#sk-container-id-1 div.sk-parallel-item:last-child::after {align-self: flex-start;width: 50%;}#sk-container-id-1 div.sk-parallel-item:only-child::after {width: 0;}#sk-container-id-1 div.sk-dashed-wrapped {border: 1px dashed gray;margin: 0 0.4em 0.5em 0.4em;box-sizing: border-box;padding-bottom: 0.4em;background-color: white;}#sk-container-id-1 div.sk-label label {font-family: monospace;font-weight: bold;display: inline-block;line-height: 1.2em;}#sk-container-id-1 div.sk-label-container {text-align: center;}#sk-container-id-1 div.sk-container {/* jupyter's `normalize.less` sets `[hidden] { display: none; }` but bootstrap.min.css set `[hidden] { display: none !important; }` so we also need the `!important` here to be able to override the default hidden behavior on the sphinx rendered scikit-learn.org. See: https://github.com/scikit-learn/scikit-learn/issues/21755 */display: inline-block !important;position: relative;}#sk-container-id-1 div.sk-text-repr-fallback {display: none;}</style><div id=\"sk-container-id-1\" class=\"sk-top-container\"><div class=\"sk-text-repr-fallback\"><pre>DecisionTreeRegressor(max_depth=1)</pre><b>In a Jupyter environment, please rerun this cell to show the HTML representation or trust the notebook. <br />On GitHub, the HTML representation is unable to render, please try loading this page with nbviewer.org.</b></div><div class=\"sk-container\" hidden><div class=\"sk-item\"><div class=\"sk-estimator sk-toggleable\"><input class=\"sk-toggleable__control sk-hidden--visually\" id=\"sk-estimator-id-1\" type=\"checkbox\" checked><label for=\"sk-estimator-id-1\" class=\"sk-toggleable__label sk-toggleable__label-arrow\">DecisionTreeRegressor</label><div class=\"sk-toggleable__content\"><pre>DecisionTreeRegressor(max_depth=1)</pre></div></div></div></div></div>"
      ],
      "text/plain": [
       "DecisionTreeRegressor(max_depth=1)"
      ]
     },
     "execution_count": 5,
     "metadata": {},
     "output_type": "execute_result"
    }
   ],
   "source": [
    "dt = DecisionTreeRegressor(max_depth=1)\n",
    "dt.fit(X_train, y_train)"
   ]
  },
  {
   "cell_type": "code",
   "execution_count": 6,
   "id": "b0af99f5-8990-49ff-8fc7-0f19ba5f0f11",
   "metadata": {},
   "outputs": [
    {
     "name": "stdout",
     "output_type": "stream",
     "text": [
      "|--- ocean_proximity=<1H OCEAN <= 0.50\n",
      "|   |--- value: [11.61]\n",
      "|--- ocean_proximity=<1H OCEAN >  0.50\n",
      "|   |--- value: [12.30]\n",
      "\n"
     ]
    }
   ],
   "source": [
    "print(export_text(dt, feature_names=dv.get_feature_names_out()))"
   ]
  },
  {
   "cell_type": "code",
   "execution_count": 7,
   "id": "028f1651-d925-42fb-a389-1c1e770174d9",
   "metadata": {},
   "outputs": [
    {
     "name": "stdout",
     "output_type": "stream",
     "text": [
      "0.245\n"
     ]
    }
   ],
   "source": [
    "rf = RandomForestRegressor(n_estimators=10, random_state=1, n_jobs=-1)\n",
    "rf.fit(X_train, y_train)\n",
    "y_pred = rf.predict(X_val)\n",
    "score = np.sqrt(mean_squared_error(y_val, y_pred))\n",
    "print(round(score, 3))"
   ]
  },
  {
   "cell_type": "code",
   "execution_count": 8,
   "id": "30da5a38-0ccc-430b-8de5-9f087e5082ca",
   "metadata": {},
   "outputs": [
    {
     "data": {
      "text/plain": [
       "[<matplotlib.lines.Line2D at 0x7f1977fd9c90>]"
      ]
     },
     "execution_count": 8,
     "metadata": {},
     "output_type": "execute_result"
    },
    {
     "data": {
      "image/png": "[encoded data removed]",
      "text/plain": [
       "<Figure size 640x480 with 1 Axes>"
      ]
     },
     "metadata": {},
     "output_type": "display_data"
    }
   ],
   "source": [
    "scores = []\n",
    "for i in range(10, 201, 10):\n",
    "    rf = RandomForestRegressor(n_estimators=i, random_state=1, n_jobs=-1)\n",
    "    rf.fit(X_train, y_train)\n",
    "    y_pred = rf.predict(X_val)\n",
    "    score = np.sqrt(mean_squared_error(y_val, y_pred))\n",
    "    score = round(score, 3)\n",
    "    scores.append((i, score))\n",
    "df_scores = pd.DataFrame(scores, columns=['n_estimators', 'score'])\n",
    "plt.plot(df_scores.n_estimators, df_scores.score)"
   ]
  },
  {
   "cell_type": "code",
   "execution_count": 10,
   "id": "b3a1b94c-de36-4f90-b52a-64867437263f",
   "metadata": {},
   "outputs": [
    {
     "data": {
      "text/plain": [
       "[<matplotlib.lines.Line2D at 0x7f1974fc3c40>]"
      ]
     },
     "execution_count": 10,
     "metadata": {},
     "output_type": "execute_result"
    },
    {
     "data": {
      "image/png": "[encoded data removed]",
      "text/plain": [
       "<Figure size 640x480 with 1 Axes>"
      ]
     },
     "metadata": {},
     "output_type": "display_data"
    }
   ],
   "source": [
    "max_depth_scores = []\n",
    "for i in [10, 15, 20, 25]:\n",
    "    scores = []\n",
    "    for j in range(10, 201, 10):\n",
    "        rf = RandomForestRegressor(max_depth=i, n_estimators=j, random_state=1, n_jobs=-1)\n",
    "        rf.fit(X_train, y_train)\n",
    "        y_pred = rf.predict(X_val)\n",
    "        score = np.sqrt(mean_squared_error(y_val, y_pred))\n",
    "        scores.append(score)\n",
    "    mean_score = round(np.mean(scores), 3)\n",
    "    max_depth_scores.append((i, mean_score))\n",
    "df_scores = pd.DataFrame(max_depth_scores, columns=['max_depth', 'score'])\n",
    "plt.plot(df_scores.max_depth, df_scores.score)"
   ]
  },
  {
   "cell_type": "code",
   "execution_count": 11,
   "id": "d2f7d813-44ac-476b-9d3e-c8e40b5c0e67",
   "metadata": {},
   "outputs": [
    {
     "data": {
      "text/html": [
       "<div>\n",
       "<style scoped>\n",
       "    .dataframe tbody tr th:only-of-type {\n",
       "        vertical-align: middle;\n",
       "    }\n",
       "\n",
       "    .dataframe tbody tr th {\n",
       "        vertical-align: top;\n",
       "    }\n",
       "\n",
       "    .dataframe thead th {\n",
       "        text-align: right;\n",
       "    }\n",
       "</style>\n",
       "<table border=\"1\" class=\"dataframe\">\n",
       "  <thead>\n",
       "    <tr style=\"text-align: right;\">\n",
       "      <th></th>\n",
       "      <th>max_depth</th>\n",
       "      <th>score</th>\n",
       "    </tr>\n",
       "  </thead>\n",
       "  <tbody>\n",
       "    <tr>\n",
       "      <th>0</th>\n",
       "      <td>10</td>\n",
       "      <td>0.245</td>\n",
       "    </tr>\n",
       "    <tr>\n",
       "      <th>1</th>\n",
       "      <td>15</td>\n",
       "      <td>0.236</td>\n",
       "    </tr>\n",
       "    <tr>\n",
       "      <th>2</th>\n",
       "      <td>20</td>\n",
       "      <td>0.235</td>\n",
       "    </tr>\n",
       "    <tr>\n",
       "      <th>3</th>\n",
       "      <td>25</td>\n",
       "      <td>0.235</td>\n",
       "    </tr>\n",
       "  </tbody>\n",
       "</table>\n",
       "</div>"
      ],
      "text/plain": [
       "   max_depth  score\n",
       "0         10  0.245\n",
       "1         15  0.236\n",
       "2         20  0.235\n",
       "3         25  0.235"
      ]
     },
     "execution_count": 11,
     "metadata": {},
     "output_type": "execute_result"
    }
   ],
   "source": [
    "df_scores"
   ]
  },
  {
   "cell_type": "code",
   "execution_count": 13,
   "id": "48fbc33c-f5c4-44ff-bed3-5d51b8902bb3",
   "metadata": {},
   "outputs": [
    {
     "name": "stdout",
     "output_type": "stream",
     "text": [
      "households: 0.014953476344031812\n",
      "housing_median_age: 0.030194348002947978\n",
      "latitude: 0.10189141894557846\n",
      "longitude: 0.08617580381806568\n",
      "median_income: 0.33566849340251753\n",
      "ocean_proximity=<1H OCEAN: 0.29247296545343116\n",
      "ocean_proximity=INLAND: 0.07380644294557998\n",
      "population: 0.026820690830484637\n",
      "total_bedrooms: 0.01624480660362488\n",
      "total_rooms: 0.021771553653737723\n",
      "The most important feature is median_income\n"
     ]
    }
   ],
   "source": [
    "# Fit the model\n",
    "rf = RandomForestRegressor(n_estimators=10, max_depth=20, random_state=1, n_jobs=-1)\n",
    "rf.fit(X_train, y_train)\n",
    "\n",
    "# Get feature importances\n",
    "importances = rf.feature_importances_\n",
    "\n",
    "# Get feature names\n",
    "feature_names = dv.get_feature_names_out()\n",
    "\n",
    "# Create a dictionary mapping feature names to their importances\n",
    "feature_importances = dict(zip(feature_names, importances))\n",
    "\n",
    "# Print the feature importances\n",
    "for feature, importance in feature_importances.items():\n",
    "    print(f\"{feature}: {importance}\")\n",
    "\n",
    "# To find the most important feature\n",
    "most_important_feature = max(feature_importances, key=feature_importances.get)\n",
    "print(f\"The most important feature is {most_important_feature}\")\n"
   ]
  },
  {
   "cell_type": "code",
   "execution_count": 35,
   "id": "eca6e319-9e4e-485a-9d3a-90e280738280",
   "metadata": {},
   "outputs": [],
   "source": [
    "# Replace '<' and '=' with '_'\n",
    "features = [feat.replace('<', '_').replace('=', '_') for feat in dv.get_feature_names_out()]\n",
    "dtrain = xgb.DMatrix(X_train, label=y_train, feature_names=features)\n",
    "dval = xgb.DMatrix(X_val, label=y_val, feature_names=features)\n",
    "watchlist = [(dtrain, 'train'), (dval, 'val')]"
   ]
  },
  {
   "cell_type": "code",
   "execution_count": 36,
   "id": "7c77ea3b-8f69-45ce-a90e-ba16b735239f",
   "metadata": {},
   "outputs": [],
   "source": [
    "%%capture output\n",
    "#We use this to capture what is printed out when we train the XGBoost model. \n",
    "\n",
    "xgb_params = {\n",
    "    'eta': 0.3, \n",
    "    'max_depth': 6,\n",
    "    'min_child_weight': 1,\n",
    "    \n",
    "    'objective': 'reg:squarederror',\n",
    "    'nthread': 8,\n",
    "    \n",
    "    'seed': 1,\n",
    "    'verbosity': 1,\n",
    "}\n",
    "\n",
    "model = xgb.train(xgb_params, dtrain, num_boost_round=100,\n",
    "                  verbose_eval=5,\n",
    "                  evals=watchlist)\n",
    "\n",
    "# verbose_eval = increments of n, whereby n is what is stated."
   ]
  },
  {
   "cell_type": "code",
   "execution_count": 37,
   "id": "ea99cb29-a89f-41d7-9fdc-2eb9804fb44e",
   "metadata": {},
   "outputs": [
    {
     "name": "stdout",
     "output_type": "stream",
     "text": [
      "[0]\ttrain-rmse:0.44350\tval-rmse:0.44250\n",
      "[5]\ttrain-rmse:0.25338\tval-rmse:0.27463\n",
      "[10]\ttrain-rmse:0.21\n"
     ]
    }
   ],
   "source": [
    "s = output.stdout\n",
    "print(s[:100])"
   ]
  },
  {
   "cell_type": "code",
   "execution_count": 38,
   "id": "6da69490-c566-4c2a-9192-8756d81eb219",
   "metadata": {},
   "outputs": [],
   "source": [
    "# Function for producing a dataframe\n",
    "def parse_xgb_output(output, val_col_name='val_rmse_03'):\n",
    "    results = []\n",
    "\n",
    "    for line in output.stdout.strip().split('\\n'):\n",
    "        it_line, train_line, val_line = line.split('\\t')\n",
    "\n",
    "        it = int(it_line.strip('[]'))\n",
    "        train = float(train_line.split(':')[1])\n",
    "        val = float(val_line.split(':')[1])\n",
    "\n",
    "        results.append((it, train, val))\n",
    "    \n",
    "    columns = ['num_iter', 'train_rmse', val_col_name]\n",
    "    df_results = pd.DataFrame(results, columns=columns)\n",
    "    return df_results"
   ]
  },
  {
   "cell_type": "code",
   "execution_count": 39,
   "id": "ab34726f-ae2c-45aa-b180-53fa984a8087",
   "metadata": {},
   "outputs": [
    {
     "data": {
      "text/plain": [
       "<matplotlib.legend.Legend at 0x7f197566ee90>"
      ]
     },
     "execution_count": 39,
     "metadata": {},
     "output_type": "execute_result"
    },
    {
     "data": {
      "image/png": "[encoded data removed]",
      "text/plain": [
       "<Figure size 640x480 with 1 Axes>"
      ]
     },
     "metadata": {},
     "output_type": "display_data"
    }
   ],
   "source": [
    "df_score = parse_xgb_output(output)\n",
    "plt.plot(df_score.num_iter, df_score.train_rmse, label='train')\n",
    "plt.plot(df_score.num_iter, df_score.val_rmse_03, label='val')\n",
    "plt.legend()"
   ]
  },
  {
   "cell_type": "code",
   "execution_count": 40,
   "id": "b2c071d3-5829-4995-b8d6-d35ae6ef6918",
   "metadata": {},
   "outputs": [],
   "source": [
    "%%capture output\n",
    "#We use this to capture what is printed out when we train the XGBoost model. \n",
    "\n",
    "xgb_params = {\n",
    "    'eta': 0.1, \n",
    "    'max_depth': 6,\n",
    "    'min_child_weight': 1,\n",
    "    \n",
    "    'objective': 'reg:squarederror',\n",
    "    'nthread': 8,\n",
    "    \n",
    "    'seed': 1,\n",
    "    'verbosity': 1,\n",
    "}\n",
    "\n",
    "model = xgb.train(xgb_params, dtrain, num_boost_round=100,\n",
    "                  verbose_eval=5,\n",
    "                  evals=watchlist)\n",
    "\n",
    "# verbose_eval = increments of n, whereby n is what is stated."
   ]
  },
  {
   "cell_type": "code",
   "execution_count": 41,
   "id": "dc9d10c6-1498-4a30-9e01-fdebf9ca2f43",
   "metadata": {},
   "outputs": [
    {
     "name": "stdout",
     "output_type": "stream",
     "text": [
      "[0]\ttrain-rmse:0.52449\tval-rmse:0.52045\n",
      "[5]\ttrain-rmse:0.37822\tval-rmse:0.38151\n",
      "[10]\ttrain-rmse:0.30\n"
     ]
    }
   ],
   "source": [
    "s = output.stdout\n",
    "print(s[:100])"
   ]
  },
  {
   "cell_type": "code",
   "execution_count": 42,
   "id": "367d5141-1ff7-47b0-ba65-adf980231d86",
   "metadata": {},
   "outputs": [
    {
     "data": {
      "text/plain": [
       "<matplotlib.legend.Legend at 0x7f19756ff190>"
      ]
     },
     "execution_count": 42,
     "metadata": {},
     "output_type": "execute_result"
    },
    {
     "data": {
      "image/png": "[encoded data removed]",
      "text/plain": [
       "<Figure size 640x480 with 1 Axes>"
      ]
     },
     "metadata": {},
     "output_type": "display_data"
    }
   ],
   "source": [
    "df_score_2 = parse_xgb_output(output, 'val_rmse_01')\n",
    "plt.plot(df_score_2.num_iter, df_score_2.train_rmse, label='train')\n",
    "plt.plot(df_score_2.num_iter, df_score_2.val_rmse_01, label='val')\n",
    "plt.legend()"
   ]
  },
  {
   "cell_type": "code",
   "execution_count": 43,
   "id": "2d15cf57-c771-49ad-bd64-d26a4e6ebf95",
   "metadata": {},
   "outputs": [
    {
     "data": {
      "text/plain": [
       "<matplotlib.legend.Legend at 0x7f197467ce20>"
      ]
     },
     "execution_count": 43,
     "metadata": {},
     "output_type": "execute_result"
    },
    {
     "data": {
      "image/png": "[encoded data removed]",
      "text/plain": [
       "<Figure size 640x480 with 1 Axes>"
      ]
     },
     "metadata": {},
     "output_type": "display_data"
    }
   ],
   "source": [
    "merged_df_score = pd.merge(df_score[['num_iter', 'val_rmse_03']],\n",
    "                           df_score_2[['num_iter', 'val_rmse_01']],\n",
    "                           on='num_iter'\n",
    "                          )\n",
    "plt.plot(merged_df_score.num_iter, merged_df_score.val_rmse_03, label='val_03')\n",
    "plt.plot(merged_df_score.num_iter, merged_df_score.val_rmse_01, label='val_01')\n",
    "plt.legend()"
   ]
  },
  {
   "cell_type": "code",
   "execution_count": 44,
   "id": "c49133fe-e173-4454-a696-76c766325e1e",
   "metadata": {},
   "outputs": [
    {
     "data": {
      "text/html": [
       "<div>\n",
       "<style scoped>\n",
       "    .dataframe tbody tr th:only-of-type {\n",
       "        vertical-align: middle;\n",
       "    }\n",
       "\n",
       "    .dataframe tbody tr th {\n",
       "        vertical-align: top;\n",
       "    }\n",
       "\n",
       "    .dataframe thead th {\n",
       "        text-align: right;\n",
       "    }\n",
       "</style>\n",
       "<table border=\"1\" class=\"dataframe\">\n",
       "  <thead>\n",
       "    <tr style=\"text-align: right;\">\n",
       "      <th></th>\n",
       "      <th>num_iter</th>\n",
       "      <th>val_rmse_03</th>\n",
       "      <th>val_rmse_01</th>\n",
       "    </tr>\n",
       "  </thead>\n",
       "  <tbody>\n",
       "    <tr>\n",
       "      <th>0</th>\n",
       "      <td>0</td>\n",
       "      <td>0.44250</td>\n",
       "      <td>0.52045</td>\n",
       "    </tr>\n",
       "    <tr>\n",
       "      <th>1</th>\n",
       "      <td>5</td>\n",
       "      <td>0.27463</td>\n",
       "      <td>0.38151</td>\n",
       "    </tr>\n",
       "    <tr>\n",
       "      <th>2</th>\n",
       "      <td>10</td>\n",
       "      <td>0.25179</td>\n",
       "      <td>0.31427</td>\n",
       "    </tr>\n",
       "    <tr>\n",
       "      <th>3</th>\n",
       "      <td>15</td>\n",
       "      <td>0.24522</td>\n",
       "      <td>0.28380</td>\n",
       "    </tr>\n",
       "    <tr>\n",
       "      <th>4</th>\n",
       "      <td>20</td>\n",
       "      <td>0.23978</td>\n",
       "      <td>0.26882</td>\n",
       "    </tr>\n",
       "    <tr>\n",
       "      <th>5</th>\n",
       "      <td>25</td>\n",
       "      <td>0.23830</td>\n",
       "      <td>0.25997</td>\n",
       "    </tr>\n",
       "    <tr>\n",
       "      <th>6</th>\n",
       "      <td>30</td>\n",
       "      <td>0.23570</td>\n",
       "      <td>0.25266</td>\n",
       "    </tr>\n",
       "    <tr>\n",
       "      <th>7</th>\n",
       "      <td>35</td>\n",
       "      <td>0.23416</td>\n",
       "      <td>0.24826</td>\n",
       "    </tr>\n",
       "    <tr>\n",
       "      <th>8</th>\n",
       "      <td>40</td>\n",
       "      <td>0.23318</td>\n",
       "      <td>0.24539</td>\n",
       "    </tr>\n",
       "    <tr>\n",
       "      <th>9</th>\n",
       "      <td>45</td>\n",
       "      <td>0.23190</td>\n",
       "      <td>0.24293</td>\n",
       "    </tr>\n",
       "    <tr>\n",
       "      <th>10</th>\n",
       "      <td>50</td>\n",
       "      <td>0.23225</td>\n",
       "      <td>0.24020</td>\n",
       "    </tr>\n",
       "    <tr>\n",
       "      <th>11</th>\n",
       "      <td>55</td>\n",
       "      <td>0.23197</td>\n",
       "      <td>0.23878</td>\n",
       "    </tr>\n",
       "    <tr>\n",
       "      <th>12</th>\n",
       "      <td>60</td>\n",
       "      <td>0.23139</td>\n",
       "      <td>0.23791</td>\n",
       "    </tr>\n",
       "    <tr>\n",
       "      <th>13</th>\n",
       "      <td>65</td>\n",
       "      <td>0.23158</td>\n",
       "      <td>0.23698</td>\n",
       "    </tr>\n",
       "    <tr>\n",
       "      <th>14</th>\n",
       "      <td>70</td>\n",
       "      <td>0.23068</td>\n",
       "      <td>0.23622</td>\n",
       "    </tr>\n",
       "    <tr>\n",
       "      <th>15</th>\n",
       "      <td>75</td>\n",
       "      <td>0.23039</td>\n",
       "      <td>0.23510</td>\n",
       "    </tr>\n",
       "    <tr>\n",
       "      <th>16</th>\n",
       "      <td>80</td>\n",
       "      <td>0.22886</td>\n",
       "      <td>0.23453</td>\n",
       "    </tr>\n",
       "    <tr>\n",
       "      <th>17</th>\n",
       "      <td>85</td>\n",
       "      <td>0.22888</td>\n",
       "      <td>0.23404</td>\n",
       "    </tr>\n",
       "    <tr>\n",
       "      <th>18</th>\n",
       "      <td>90</td>\n",
       "      <td>0.22861</td>\n",
       "      <td>0.23332</td>\n",
       "    </tr>\n",
       "    <tr>\n",
       "      <th>19</th>\n",
       "      <td>95</td>\n",
       "      <td>0.22908</td>\n",
       "      <td>0.23276</td>\n",
       "    </tr>\n",
       "    <tr>\n",
       "      <th>20</th>\n",
       "      <td>99</td>\n",
       "      <td>0.22862</td>\n",
       "      <td>0.23209</td>\n",
       "    </tr>\n",
       "  </tbody>\n",
       "</table>\n",
       "</div>"
      ],
      "text/plain": [
       "    num_iter  val_rmse_03  val_rmse_01\n",
       "0          0      0.44250      0.52045\n",
       "1          5      0.27463      0.38151\n",
       "2         10      0.25179      0.31427\n",
       "3         15      0.24522      0.28380\n",
       "4         20      0.23978      0.26882\n",
       "5         25      0.23830      0.25997\n",
       "6         30      0.23570      0.25266\n",
       "7         35      0.23416      0.24826\n",
       "8         40      0.23318      0.24539\n",
       "9         45      0.23190      0.24293\n",
       "10        50      0.23225      0.24020\n",
       "11        55      0.23197      0.23878\n",
       "12        60      0.23139      0.23791\n",
       "13        65      0.23158      0.23698\n",
       "14        70      0.23068      0.23622\n",
       "15        75      0.23039      0.23510\n",
       "16        80      0.22886      0.23453\n",
       "17        85      0.22888      0.23404\n",
       "18        90      0.22861      0.23332\n",
       "19        95      0.22908      0.23276\n",
       "20        99      0.22862      0.23209"
      ]
     },
     "execution_count": 44,
     "metadata": {},
     "output_type": "execute_result"
    }
   ],
   "source": [
    "merged_df_score"
   ]
  },
  {
   "cell_type": "code",
   "execution_count": null,
   "id": "0e3986ee-62fc-4ee0-9122-f930c0df225d",
   "metadata": {},
   "outputs": [],
   "source": []
  }
 ],
 "metadata": {
  "kernelspec": {
   "display_name": "Python 3 (ipykernel)",
   "language": "python",
   "name": "python3"
  },
  "language_info": {
   "codemirror_mode": {
    "name": "ipython",
    "version": 3
   },
   "file_extension": ".py",
   "mimetype": "text/x-python",
   "name": "python",
   "nbconvert_exporter": "python",
   "pygments_lexer": "ipython3",
   "version": "3.10.13"
  }
 },
 "nbformat": 4,
 "nbformat_minor": 5
}
