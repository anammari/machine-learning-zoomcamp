{
 "cells": [
  {
   "cell_type": "code",
   "execution_count": 1,
   "id": "5a41295e-121e-4d0d-896b-c9c3658851ca",
   "metadata": {},
   "outputs": [
    {
     "name": "stdout",
     "output_type": "stream",
     "text": [
      "Python 3.10.6\n"
     ]
    }
   ],
   "source": [
    "!python -V"
   ]
  },
  {
   "cell_type": "code",
   "execution_count": 2,
   "id": "ed2cd839-f5f3-406d-9f98-16056d90d7bb",
   "metadata": {},
   "outputs": [
    {
     "name": "stdout",
     "output_type": "stream",
     "text": [
      "WARNING:tensorflow:From C:\\Users\\Ahmad\\github\\machine-learning-zoomcamp\\cohorts\\2023\\09-serverless\\myenv\\lib\\site-packages\\keras\\src\\losses.py:2976: The name tf.losses.sparse_softmax_cross_entropy is deprecated. Please use tf.compat.v1.losses.sparse_softmax_cross_entropy instead.\n",
      "\n"
     ]
    },
    {
     "data": {
      "text/plain": [
       "'2.15.0'"
      ]
     },
     "execution_count": 2,
     "metadata": {},
     "output_type": "execute_result"
    }
   ],
   "source": [
    "import numpy as np\n",
    "\n",
    "import tensorflow as tf\n",
    "from tensorflow import keras\n",
    "\n",
    "tf.__version__"
   ]
  },
  {
   "cell_type": "code",
   "execution_count": 3,
   "id": "8334d52e-a106-4449-a018-4a91a18671bf",
   "metadata": {},
   "outputs": [
    {
     "name": "stderr",
     "output_type": "stream",
     "text": [
      "'Invoke-WebRequest' is not recognized as an internal or external command,\n",
      "operable program or batch file.\n"
     ]
    }
   ],
   "source": [
    "#Invoke-WebRequest -Uri \"https://www.westernpest.com/wp-content/uploads/honeybee-with-pollen.jpg\" -OutFile \"./honeybee-with-pollen.jpg\""
   ]
  },
  {
   "cell_type": "code",
   "execution_count": 4,
   "id": "26196ef5-b9b8-44ed-b375-1eb405dc9448",
   "metadata": {},
   "outputs": [
    {
     "name": "stdout",
     "output_type": "stream",
     "text": [
      "WARNING:tensorflow:From C:\\Users\\Ahmad\\github\\machine-learning-zoomcamp\\cohorts\\2023\\09-serverless\\myenv\\lib\\site-packages\\keras\\src\\backend.py:1398: The name tf.executing_eagerly_outside_functions is deprecated. Please use tf.compat.v1.executing_eagerly_outside_functions instead.\n",
      "\n",
      "WARNING:tensorflow:From C:\\Users\\Ahmad\\github\\machine-learning-zoomcamp\\cohorts\\2023\\09-serverless\\myenv\\lib\\site-packages\\keras\\src\\layers\\pooling\\max_pooling2d.py:161: The name tf.nn.max_pool is deprecated. Please use tf.nn.max_pool2d instead.\n",
      "\n"
     ]
    }
   ],
   "source": [
    "model = keras.models.load_model('bees-wasps.h5')"
   ]
  },
  {
   "cell_type": "code",
   "execution_count": 18,
   "id": "47c18d06-4cbd-4ce3-aad0-2369238d74ab",
   "metadata": {},
   "outputs": [
    {
     "name": "stdout",
     "output_type": "stream",
     "text": [
      "1/1 [==============================] - 0s 99ms/step\n",
      "The image is predicted to be a bee.\n"
     ]
    }
   ],
   "source": [
    "from tensorflow.keras.preprocessing import image\n",
    "# Load the image\n",
    "img_path = 'honeybee-with-pollen.jpg'  # replace with the path to your image file\n",
    "img = image.load_img(img_path, target_size=(150, 150))\n",
    "# Preprocess the image\n",
    "img_tensor = image.img_to_array(img)\n",
    "img_tensor = np.expand_dims(img_tensor, axis=0)\n",
    "img_tensor /= 255.  # the model was trained on inputs that were normalized in the range [0, 1]\n",
    "\n",
    "# Use the model to predict the class of the image\n",
    "prediction = model.predict(img_tensor)\n",
    "\n",
    "# Print the prediction\n",
    "if prediction < 0.5:\n",
    "    print(\"The image is predicted to be a bee.\")\n",
    "else:\n",
    "    print(\"The image is predicted to be a wasp.\")"
   ]
  },
  {
   "cell_type": "code",
   "execution_count": 19,
   "id": "dc749a44-6fe3-4ab5-99ec-3671e1a0b1d2",
   "metadata": {},
   "outputs": [
    {
     "data": {
      "text/plain": [
       "array([[0.45456693]], dtype=float32)"
      ]
     },
     "execution_count": 19,
     "metadata": {},
     "output_type": "execute_result"
    }
   ],
   "source": [
    "prediction"
   ]
  },
  {
   "cell_type": "code",
   "execution_count": 13,
   "id": "1fc81d70-ea9b-4021-8818-85e7b81472b4",
   "metadata": {},
   "outputs": [],
   "source": [
    "#Invoke-WebRequest -Uri \"https://en.m.wikipedia.org/wiki/File:European_wasp_white_bg02.jpg\" -OutFile \"./European_wasp_white_bg02.jpg\""
   ]
  },
  {
   "cell_type": "code",
   "execution_count": 20,
   "id": "e322b802-aae5-4a12-aa0c-11925c7277b8",
   "metadata": {},
   "outputs": [
    {
     "name": "stdout",
     "output_type": "stream",
     "text": [
      "1/1 [==============================] - 0s 37ms/step\n",
      "The image is predicted to be a wasp.\n"
     ]
    }
   ],
   "source": [
    "img_path = 'European_wasp_white_bg02.jpg'  # replace with the path to your image file\n",
    "img = image.load_img(img_path, target_size=(150, 150))\n",
    "# Preprocess the image\n",
    "img_tensor = image.img_to_array(img)\n",
    "img_tensor = np.expand_dims(img_tensor, axis=0)\n",
    "img_tensor /= 255.  # the model was trained on inputs that were normalized in the range [0, 1]\n",
    "\n",
    "# Use the model to predict the class of the image\n",
    "prediction = model.predict(img_tensor)\n",
    "\n",
    "# Print the prediction\n",
    "if prediction < 0.5:\n",
    "    print(\"The image is predicted to be a bee.\")\n",
    "else:\n",
    "    print(\"The image is predicted to be a wasp.\")"
   ]
  },
  {
   "cell_type": "code",
   "execution_count": 22,
   "id": "e7792847-1b1e-4aa9-aefd-e7a07d48ff2c",
   "metadata": {},
   "outputs": [
    {
     "name": "stdout",
     "output_type": "stream",
     "text": [
      "INFO:tensorflow:Assets written to: C:\\Users\\Ahmad\\AppData\\Local\\Temp\\tmpqm8jcobw\\assets\n"
     ]
    },
    {
     "name": "stderr",
     "output_type": "stream",
     "text": [
      "INFO:tensorflow:Assets written to: C:\\Users\\Ahmad\\AppData\\Local\\Temp\\tmpqm8jcobw\\assets\n"
     ]
    }
   ],
   "source": [
    "converter = tf.lite.TFLiteConverter.from_keras_model(model)\n",
    "\n",
    "tflite_model = converter.convert()\n",
    "\n",
    "with open('bee-model.tflite', 'wb') as f_out:\n",
    "    f_out.write(tflite_model)"
   ]
  },
  {
   "cell_type": "code",
   "execution_count": 24,
   "id": "8602a513-5d90-4c0b-8729-42ae5554dd1d",
   "metadata": {},
   "outputs": [
    {
     "data": {
      "text/plain": [
       "42.787742614746094"
      ]
     },
     "execution_count": 24,
     "metadata": {},
     "output_type": "execute_result"
    }
   ],
   "source": [
    "import os\n",
    "os.path.getsize(\"bee-model.tflite\") / (1024*1024)"
   ]
  },
  {
   "cell_type": "code",
   "execution_count": 3,
   "id": "4d139d38-cf0c-4d85-94bd-008cf0977d46",
   "metadata": {},
   "outputs": [
    {
     "data": {
      "text/plain": [
       "13"
      ]
     },
     "execution_count": 3,
     "metadata": {},
     "output_type": "execute_result"
    }
   ],
   "source": [
    "import tensorflow.lite as tflite\n",
    "interpreter = tflite.Interpreter(model_path='bee-model.tflite')\n",
    "interpreter.allocate_tensors()\n",
    "\n",
    "input_index = interpreter.get_input_details()[0]['index']\n",
    "output_index = interpreter.get_output_details()[0]['index']\n",
    "output_index"
   ]
  },
  {
   "cell_type": "code",
   "execution_count": 4,
   "id": "0d3ef53e-4c26-4b48-ba7f-c0470f4af12d",
   "metadata": {},
   "outputs": [],
   "source": [
    "from io import BytesIO\n",
    "from urllib import request\n",
    "\n",
    "from PIL import Image\n",
    "\n",
    "def download_image(url):\n",
    "    with request.urlopen(url) as resp:\n",
    "        buffer = resp.read()\n",
    "    stream = BytesIO(buffer)\n",
    "    img = Image.open(stream)\n",
    "    return img\n",
    "\n",
    "\n",
    "def prepare_image(img, target_size):\n",
    "    if img.mode != 'RGB':\n",
    "        img = img.convert('RGB')\n",
    "    img = img.resize(target_size, Image.NEAREST)\n",
    "    return img"
   ]
  },
  {
   "cell_type": "code",
   "execution_count": 5,
   "id": "34563ec7-2373-4c66-bc55-90f7dd0adad1",
   "metadata": {},
   "outputs": [],
   "source": [
    "url = 'https://habrastorage.org/webt/rt/d9/dh/rtd9dhsmhwrdezeldzoqgijdg8a.jpeg'\n",
    "img = download_image(url)\n",
    "target_size = (150, 150)\n",
    "prep_img = prepare_image(img, target_size)"
   ]
  },
  {
   "cell_type": "code",
   "execution_count": 7,
   "id": "8b320f11-7f35-46eb-84d3-7b409637f57d",
   "metadata": {},
   "outputs": [
    {
     "data": {
      "text/plain": [
       "PIL.Image.Image"
      ]
     },
     "execution_count": 7,
     "metadata": {},
     "output_type": "execute_result"
    }
   ],
   "source": [
    "type(prep_img)"
   ]
  },
  {
   "cell_type": "code",
   "execution_count": 8,
   "id": "6d45ff48-f01b-4fb2-906a-fcfed8a8f666",
   "metadata": {},
   "outputs": [
    {
     "name": "stdout",
     "output_type": "stream",
     "text": [
      "The R value of the first pixel is 241\n"
     ]
    }
   ],
   "source": [
    "pix = prep_img.load()\n",
    "\n",
    "# Get the RGB values of the first pixel\n",
    "r, g, b = pix[0, 0]\n",
    "\n",
    "print(f\"The R value of the first pixel is {r}\")"
   ]
  },
  {
   "cell_type": "code",
   "execution_count": 9,
   "id": "819f3c83-cb70-418e-96d3-3fe3f634354d",
   "metadata": {},
   "outputs": [
    {
     "name": "stdout",
     "output_type": "stream",
     "text": [
      "0.9450980392156862\n"
     ]
    }
   ],
   "source": [
    "normalized_r = r / 255\n",
    "print(normalized_r)"
   ]
  },
  {
   "cell_type": "code",
   "execution_count": 21,
   "id": "eb7ffc5f-49fb-4cfd-bdff-9d209c100194",
   "metadata": {},
   "outputs": [
    {
     "name": "stdout",
     "output_type": "stream",
     "text": [
      "1/1 [==============================] - 0s 40ms/step\n",
      "[[0.65921396]]\n",
      "The image is predicted to be a wasp.\n",
      "[[0.6592137]]\n",
      "The image is predicted to be a wasp.\n"
     ]
    }
   ],
   "source": [
    "# Load the image\n",
    "img_path = 'test.jpeg'  # replace with the path to your image file\n",
    "img = image.load_img(img_path, target_size=(150, 150))\n",
    "\n",
    "# Preprocess the image\n",
    "img_tensor = image.img_to_array(img)\n",
    "img_tensor = np.expand_dims(img_tensor, axis=0)\n",
    "img_tensor /= 255.  # the model was trained on inputs that were normalized in the range [0, 1]\n",
    "\n",
    "# Use the .h5 model to predict the class of the image\n",
    "prediction_h5 = model.predict(img_tensor)\n",
    "\n",
    "# Print the prediction\n",
    "print(prediction_h5)\n",
    "if prediction_h5 < 0.5:\n",
    "    print(\"The image is predicted to be a bee.\")\n",
    "else:\n",
    "    print(\"The image is predicted to be a wasp.\")\n",
    "\n",
    "# Now use the .tflite model\n",
    "interpreter = tflite.Interpreter(model_path='bee-model.tflite')\n",
    "interpreter.allocate_tensors()\n",
    "\n",
    "input_index = interpreter.get_input_details()[0]['index']\n",
    "output_index = interpreter.get_output_details()[0]['index']\n",
    "\n",
    "interpreter.set_tensor(input_index, img_tensor)\n",
    "interpreter.invoke()\n",
    "preds = interpreter.get_tensor(output_index)\n",
    "\n",
    "# Print the prediction\n",
    "print(preds)\n",
    "if preds < 0.5:\n",
    "    print(\"The image is predicted to be a bee.\")\n",
    "else:\n",
    "    print(\"The image is predicted to be a wasp.\")\n"
   ]
  },
  {
   "cell_type": "code",
   "execution_count": 22,
   "id": "42c66d93-d18c-4e72-aaa2-63412643b309",
   "metadata": {},
   "outputs": [
    {
     "name": "stdout",
     "output_type": "stream",
     "text": [
      "[[0.6592137]]\n",
      "The image is predicted to be a wasp.\n"
     ]
    }
   ],
   "source": [
    "import requests\n",
    "from PIL import Image\n",
    "from io import BytesIO\n",
    "\n",
    "# URL of the image\n",
    "url = 'https://habrastorage.org/webt/rt/d9/dh/rtd9dhsmhwrdezeldzoqgijdg8a.jpeg'\n",
    "\n",
    "# Send a HTTP request to the URL of the image\n",
    "response = requests.get(url)\n",
    "\n",
    "# Open the URL image as a PIL image object\n",
    "img = Image.open(BytesIO(response.content))\n",
    "\n",
    "# Preprocess the image\n",
    "target_size = (150, 150)\n",
    "img = prepare_image(img, target_size) # Resize the image\n",
    "img_tensor = image.img_to_array(img)\n",
    "img_tensor = np.expand_dims(img_tensor, axis=0)\n",
    "img_tensor /= 255.  # Normalize to [0,1]\n",
    "\n",
    "# Now use the .tflite model\n",
    "interpreter = tflite.Interpreter(model_path='bee-model.tflite')\n",
    "interpreter.allocate_tensors()\n",
    "\n",
    "input_index = interpreter.get_input_details()[0]['index']\n",
    "output_index = interpreter.get_output_details()[0]['index']\n",
    "\n",
    "interpreter.set_tensor(input_index, img_tensor)\n",
    "interpreter.invoke()\n",
    "preds = interpreter.get_tensor(output_index)\n",
    "\n",
    "# Print the prediction\n",
    "print(preds)\n",
    "if preds < 0.5:\n",
    "    print(\"The image is predicted to be a bee.\")\n",
    "else:\n",
    "    print(\"The image is predicted to be a wasp.\")\n"
   ]
  },
  {
   "cell_type": "raw",
   "id": "07337509-5a24-43f8-a69b-8223e1362a2c",
   "metadata": {},
   "source": [
    "To test the lambda function script locally in IPython:\n",
    "\n",
    "from lambda_function import lambda_handler\n",
    "event = {'url': 'https://habrastorage.org/webt/rt/d9/dh/rtd9dhsmhwrdezeldzoqgijdg8a.jpeg'}\n",
    "result = lambda_handler(event, None)\n",
    "print(result)"
   ]
  },
  {
   "cell_type": "markdown",
   "id": "5c24b608",
   "metadata": {},
   "source": [
    "To build the docker image for hw#09 Q6:\n",
    "\n",
    "```bash\n",
    "docker build -t ml-zoom-09 .\n",
    "```\n",
    "\n",
    "To run the docker container for hw#09 Q6:\n",
    "\n",
    "```bash\n",
    "docker run -p 9000:8080 -it ml-zoom-09\n",
    "```\n",
    "\n",
    "To test the lambda function in the docker container locally:\n",
    "\n",
    "```bash\n",
    "$ curl -XPOST \"http://localhost:9000/2015-03-31/functions/function/invocations\" -d '{\"url\":\"https://habrastorage.org/webt/rt/d9/dh/rtd9dhsmhwrdezeldzoqgijdg8a.jpeg\"}'\n",
    "```\n",
    "\n",
    "Output:\n",
    "\n",
    "```json\n",
    "{\"Bee\": 0.5546649396419525, \"Wasp\": 0.4453350603580475}\n",
    "```"
   ]
  }
 ],
 "metadata": {
  "kernelspec": {
   "display_name": "Python 3 (ipykernel)",
   "language": "python",
   "name": "python3"
  },
  "language_info": {
   "codemirror_mode": {
    "name": "ipython",
    "version": 3
   },
   "file_extension": ".py",
   "mimetype": "text/x-python",
   "name": "python",
   "nbconvert_exporter": "python",
   "pygments_lexer": "ipython3",
   "version": "3.10.6"
  }
 },
 "nbformat": 4,
 "nbformat_minor": 5
}
