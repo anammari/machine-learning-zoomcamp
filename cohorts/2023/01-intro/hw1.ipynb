{
 "cells": [
  {
   "cell_type": "code",
   "execution_count": 1,
   "id": "121ee0b8-daaa-49ea-a650-983c2ae948e4",
   "metadata": {},
   "outputs": [],
   "source": [
    "import pandas as pd"
   ]
  },
  {
   "cell_type": "code",
   "execution_count": 2,
   "id": "45fc0e6d-44de-482c-9595-38768997e266",
   "metadata": {},
   "outputs": [
    {
     "name": "stdout",
     "output_type": "stream",
     "text": [
      "2.0.3\n"
     ]
    }
   ],
   "source": [
    "print(pd.__version__)"
   ]
  },
  {
   "cell_type": "code",
   "execution_count": 3,
   "id": "28eb3e94-e0d4-4008-806f-a36df35cd03e",
   "metadata": {},
   "outputs": [
    {
     "data": {
      "text/plain": [
       "(20640, 10)"
      ]
     },
     "execution_count": 3,
     "metadata": {},
     "output_type": "execute_result"
    }
   ],
   "source": [
    "df = pd.read_csv(\"housing.csv\")\n",
    "df.shape"
   ]
  },
  {
   "cell_type": "code",
   "execution_count": 4,
   "id": "a8e9ba2e-db3b-4e48-b956-c3c9777ff8df",
   "metadata": {},
   "outputs": [
    {
     "name": "stdout",
     "output_type": "stream",
     "text": [
      "['total_bedrooms']\n"
     ]
    }
   ],
   "source": [
    "missing_cols = df.columns[df.isnull().any()].tolist()\n",
    "print(missing_cols)"
   ]
  },
  {
   "cell_type": "code",
   "execution_count": 5,
   "id": "369ccd89-2ca7-4bc3-88b3-77f421b88af1",
   "metadata": {},
   "outputs": [
    {
     "data": {
      "text/plain": [
       "5"
      ]
     },
     "execution_count": 5,
     "metadata": {},
     "output_type": "execute_result"
    }
   ],
   "source": [
    "len(df['ocean_proximity'].unique())"
   ]
  },
  {
   "cell_type": "code",
   "execution_count": 6,
   "id": "ed6bc1d9-b8fa-49fc-8533-442b9818552e",
   "metadata": {},
   "outputs": [
    {
     "data": {
      "text/plain": [
       "259212.31179039303"
      ]
     },
     "execution_count": 6,
     "metadata": {},
     "output_type": "execute_result"
    }
   ],
   "source": [
    "df[df['ocean_proximity'] == 'NEAR BAY']['median_house_value'].mean()"
   ]
  },
  {
   "cell_type": "code",
   "execution_count": 7,
   "id": "4edc895a-6c25-4b83-9e54-a90e480ecc2c",
   "metadata": {},
   "outputs": [
    {
     "name": "stdout",
     "output_type": "stream",
     "text": [
      "537.8705525375618\n",
      "537.8705525375617\n"
     ]
    }
   ],
   "source": [
    "average = df['total_bedrooms'].mean()\n",
    "print(average)\n",
    "# Fill missing values with the mean\n",
    "df['total_bedrooms'].fillna(average, inplace=True)\n",
    "\n",
    "# Calculate the updated average\n",
    "updated_average = df['total_bedrooms'].mean()\n",
    "print(updated_average)"
   ]
  },
  {
   "cell_type": "code",
   "execution_count": 8,
   "id": "00180688-9f46-4c16-80ab-6d72898612aa",
   "metadata": {},
   "outputs": [
    {
     "data": {
      "text/plain": [
       "array(['NEAR BAY', '<1H OCEAN', 'INLAND', 'NEAR OCEAN', 'ISLAND'],\n",
       "      dtype=object)"
      ]
     },
     "execution_count": 8,
     "metadata": {},
     "output_type": "execute_result"
    }
   ],
   "source": [
    "df['ocean_proximity'].unique()"
   ]
  },
  {
   "cell_type": "code",
   "execution_count": 11,
   "id": "dc63a9d5-2a98-420b-8c64-691ca7cfaab8",
   "metadata": {},
   "outputs": [
    {
     "data": {
      "text/plain": [
       "['longitude',\n",
       " 'latitude',\n",
       " 'housing_median_age',\n",
       " 'total_rooms',\n",
       " 'total_bedrooms',\n",
       " 'population',\n",
       " 'households',\n",
       " 'median_income',\n",
       " 'median_house_value',\n",
       " 'ocean_proximity']"
      ]
     },
     "execution_count": 11,
     "metadata": {},
     "output_type": "execute_result"
    }
   ],
   "source": [
    "list(df.columns)"
   ]
  },
  {
   "cell_type": "code",
   "execution_count": 12,
   "id": "de12713c-03bc-4f31-a568-ba36470d6b4b",
   "metadata": {},
   "outputs": [
    {
     "data": {
      "text/plain": [
       "5.699229455065586"
      ]
     },
     "execution_count": 12,
     "metadata": {},
     "output_type": "execute_result"
    }
   ],
   "source": [
    "import numpy as np\n",
    "import pandas as pd\n",
    "\n",
    "def calculate_w(df):\n",
    "    # 1. Select all the options located on islands.\n",
    "    df_island = df[df['ocean_proximity'] == 'ISLAND']\n",
    "\n",
    "    # 2. Select only columns `housing_median_age`, `total_rooms`, `total_bedrooms`.\n",
    "    df_selected = df_island[['housing_median_age', 'total_rooms', 'total_bedrooms']]\n",
    "\n",
    "    # 3. Get the underlying NumPy array. Let's call it `X`.\n",
    "    X = df_selected.values\n",
    "\n",
    "    # 4. Compute matrix-matrix multiplication between the transpose of `X` and `X`. Let's call the result `XTX`.\n",
    "    XTX = X.T.dot(X)\n",
    "\n",
    "    # 5. Compute the inverse of `XTX`.\n",
    "    XTX_inv = np.linalg.inv(XTX)\n",
    "\n",
    "    # 6. Create an array `y` with values `[950, 1300, 800, 1000, 1300]`.\n",
    "    y = np.array([950, 1300, 800, 1000, 1300])\n",
    "\n",
    "    # 7. Multiply the inverse of `XTX` with the transpose of `X`, and then multiply the result by `y`. Call the result `w`.\n",
    "    w = XTX_inv.dot(X.T).dot(y)\n",
    "\n",
    "    # 8. Identify the value of the last element of `w`.\n",
    "    last_element = w[-1]\n",
    "\n",
    "    return last_element\n",
    "calculate_w(df)"
   ]
  },
  {
   "cell_type": "code",
   "execution_count": null,
   "id": "9348d010-a75e-4ed7-8a3d-e53ac67cb482",
   "metadata": {},
   "outputs": [],
   "source": []
  }
 ],
 "metadata": {
  "kernelspec": {
   "display_name": "Python 3 (ipykernel)",
   "language": "python",
   "name": "python3"
  },
  "language_info": {
   "codemirror_mode": {
    "name": "ipython",
    "version": 3
   },
   "file_extension": ".py",
   "mimetype": "text/x-python",
   "name": "python",
   "nbconvert_exporter": "python",
   "pygments_lexer": "ipython3",
   "version": "3.10.13"
  }
 },
 "nbformat": 4,
 "nbformat_minor": 5
}
